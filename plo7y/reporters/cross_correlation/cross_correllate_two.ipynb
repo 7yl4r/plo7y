{
 "cells": [
  {
   "cell_type": "code",
   "execution_count": 1,
   "metadata": {},
   "outputs": [],
   "source": [
    "\"\"\"params\"\"\"\n",
    "TIME_SERIES_1 = \"../../../test_data/generated/timeseries_binary_signal.csv\"\n",
    "TIME_SERIES_2 = \"../../../test_data/generated/timeseries_binary_signal_noisy.csv\"\n",
    "# TIME_SERIES_1 = \"../../../test_data/generated/sine_1.csv\"\n",
    "# TIME_SERIES_2 = \"../../../test_data/generated/sine_2.csv\""
   ]
  },
  {
   "cell_type": "code",
   "execution_count": 2,
   "metadata": {},
   "outputs": [],
   "source": [
    "import pandas as pd\n",
    "def load_data():\n",
    "    return pd.read_csv(TIME_SERIES_1, index_col=0), pd.read_csv(TIME_SERIES_2, index_col=0)\n",
    "\n",
    "try:\n",
    "    sig, sig_2 = load_data()\n",
    "except FileNotFoundError:\n",
    "    from plo7y.generate_test_data import generate_test_data\n",
    "    generate_test_data()\n",
    "    try:\n",
    "        sig, sig_2 = load_data()\n",
    "    except FileNotFoundError:\n",
    "        raise AssertionError(\"unable to get test_data/generated/\")"
   ]
  },
  {
   "cell_type": "code",
   "execution_count": 3,
   "metadata": {},
   "outputs": [
    {
     "name": "stdout",
     "output_type": "stream",
     "text": [
      "ndims: 2, 2\n"
     ]
    },
    {
     "data": {
      "text/plain": [
       "<Figure size 640x480 with 3 Axes>"
      ]
     },
     "metadata": {},
     "output_type": "display_data"
    }
   ],
   "source": [
    "from plo7y.plotters.ccf_scipy import plot as ccf\n",
    "ccf(sig, sig_2, saveFigPath=None  )"
   ]
  }
 ],
 "metadata": {
  "kernelspec": {
   "display_name": "Python 3",
   "language": "python",
   "name": "python3"
  },
  "language_info": {
   "codemirror_mode": {
    "name": "ipython",
    "version": 3
   },
   "file_extension": ".py",
   "mimetype": "text/x-python",
   "name": "python",
   "nbconvert_exporter": "python",
   "pygments_lexer": "ipython3",
   "version": "3.5.2"
  }
 },
 "nbformat": 4,
 "nbformat_minor": 2
}
